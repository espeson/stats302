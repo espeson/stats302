{
 "cells": [
  {
   "cell_type": "markdown",
   "metadata": {},
   "source": [
    "# Homework 3 - Unsupervised learning "
   ]
  },
  {
   "cell_type": "markdown",
   "metadata": {},
   "source": [
    "## *YOUR FULL NAME HERE*\n",
    "Netid: Your netid here"
   ]
  },
  {
   "cell_type": "markdown",
   "metadata": {},
   "source": [
    "\n",
    "# 1) Cluster some data of your choice\n",
    "### (6 points total)\n",
    "\n",
    "\n",
    "**(a)** First: get some data. You can pick any data source on the internet as long as it is not directly connected to some notebooks analyzing the data. In practice this excludes e.g. the data sets included in Scikit-Learn and most of the datasets on Kaggle. But there are many other possible sources as you can see e.g. on https://www.v7labs.com/blog/best-free-datasets-for-machine-learning . The best idea is to search for free data download sites related to some topic of your interest.\n",
    "\n",
    "If you use a data sourse which requires an API key, you obtain one extra credit. You have to describe reproducibly how you got the data (including your own api-key). https://github.com/public-apis/public-apis is a good starting point for this type of data. It is not a problem if the useage of the API is well documented. In fact, you want that.\n",
    "\n",
    "In either case: before you get started, sent me an email with the URL of the data source so I can approve it. Also each source can only be used once, this is done one a first come, first served basis.\n",
    "\n",
    "After the question of the source is settled: download a dataset with at least 8 features and at least 1000 datapoints. This is unsupervised learning, if you have a target variable, you should either treat it as an additional feature, or ignore it until you get to your analysis.\n",
    "(1 point).  \n",
    "\n",
    "**(b)** Cluster the data either with k-means of GMM. Try to find the optimal k with the measures discussed in class. Discuss the result, where possible including domain knowledge. (2 points)\n",
    "\n",
    "**(c)** Cluster the data either with DBSCAN or agglomerative clustering. Try to find the optimal parameter(s) for the chosen method. Discuss the result, where possible including domain knowledge. (2 points)\n",
    "\n",
    "**(d)** Write a one paragraph summary what you have learned from the analysis. (1 point)"
   ]
  },
  {
   "cell_type": "markdown",
   "metadata": {},
   "source": [
    "**ANSWER**"
   ]
  }
 ],
 "metadata": {
  "kernelspec": {
   "display_name": "Python 3 (ipykernel)",
   "language": "python",
   "name": "python3"
  },
  "language_info": {
   "codemirror_mode": {
    "name": "ipython",
    "version": 3
   },
   "file_extension": ".py",
   "mimetype": "text/x-python",
   "name": "python",
   "nbconvert_exporter": "python",
   "pygments_lexer": "ipython3",
   "version": "3.10.9"
  },
  "varInspector": {
   "cols": {
    "lenName": 16,
    "lenType": 16,
    "lenVar": 40
   },
   "kernels_config": {
    "python": {
     "delete_cmd_postfix": "",
     "delete_cmd_prefix": "del ",
     "library": "var_list.py",
     "varRefreshCmd": "print(var_dic_list())"
    },
    "r": {
     "delete_cmd_postfix": ") ",
     "delete_cmd_prefix": "rm(",
     "library": "var_list.r",
     "varRefreshCmd": "cat(var_dic_list()) "
    }
   },
   "types_to_exclude": [
    "module",
    "function",
    "builtin_function_or_method",
    "instance",
    "_Feature"
   ],
   "window_display": false
  }
 },
 "nbformat": 4,
 "nbformat_minor": 2
}
